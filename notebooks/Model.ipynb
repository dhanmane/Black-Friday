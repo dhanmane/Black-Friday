{
 "cells": [
  {
   "cell_type": "code",
   "execution_count": 1,
   "metadata": {},
   "outputs": [
    {
     "name": "stderr",
     "output_type": "stream",
     "text": [
      "/Users/Faliha/miniconda3/lib/python3.6/site-packages/sklearn/ensemble/weight_boosting.py:29: DeprecationWarning: numpy.core.umath_tests is an internal NumPy module and should not be imported. It will be removed in a future NumPy release.\n",
      "  from numpy.core.umath_tests import inner1d\n"
     ]
    }
   ],
   "source": [
    "import matplotlib\n",
    "import numpy as np\n",
    "import matplotlib.pyplot as plt\n",
    "import pandas as pd\n",
    "from sklearn.model_selection import train_test_split\n",
    "from sklearn.ensemble import RandomForestRegressor\n",
    "from sklearn.metrics import mean_squared_error\n",
    "import math\n",
    "import xgboost as xgb\n",
    "from sklearn.linear_model import LinearRegression\n",
    "import statsmodels.api as sm\n",
    "from sklearn.model_selection import RandomizedSearchCV\n",
    "from sklearn.linear_model import LassoCV\n",
    "from sklearn.linear_model import RidgeCV"
   ]
  },
  {
   "cell_type": "code",
   "execution_count": 2,
   "metadata": {},
   "outputs": [
    {
     "name": "stdout",
     "output_type": "stream",
     "text": [
      "/Users/Faliha/Dropbox/Faliha Zikra MIS @ SCU/Machine learning/MachineLearning\n"
     ]
    }
   ],
   "source": [
    "cd .."
   ]
  },
  {
   "cell_type": "code",
   "execution_count": 3,
   "metadata": {},
   "outputs": [],
   "source": [
    "df_train = pd.read_csv('data/newdf.csv')\n"
   ]
  },
  {
   "cell_type": "code",
   "execution_count": 4,
   "metadata": {},
   "outputs": [],
   "source": [
    "df_train['Product_ID'] = df_train['Product_ID'].str[1:]# Drop the first character ‘P’ from product id\n",
    "df_train = df_train.astype({'Product_ID':int}) # Recast all strings as ints"
   ]
  },
  {
   "cell_type": "code",
   "execution_count": 5,
   "metadata": {},
   "outputs": [],
   "source": [
    "df_train.drop(['Unnamed: 0'], axis=1, inplace=True)"
   ]
  },
  {
   "cell_type": "code",
   "execution_count": 6,
   "metadata": {},
   "outputs": [],
   "source": [
    "df=pd.get_dummies(df_train, columns=['Gender','Age','Occupation','City_Category','Stay_In_Current_City_Years'])"
   ]
  },
  {
   "cell_type": "code",
   "execution_count": 7,
   "metadata": {},
   "outputs": [],
   "source": [
    "X = df.drop(columns=['Purchase_x',])\n",
    "y = df['Purchase_x']\n",
    "\n",
    "X_train, X_test, y_train, y_test = train_test_split(X, y,test_size=0.30, random_state=42)\n",
    "\n"
   ]
  },
  {
   "cell_type": "markdown",
   "metadata": {},
   "source": [
    "### 1. OLS"
   ]
  },
  {
   "cell_type": "code",
   "execution_count": 85,
   "metadata": {},
   "outputs": [],
   "source": [
    "multivar_model = sm.OLS(y_train,sm.add_constant(X_train)).fit()"
   ]
  },
  {
   "cell_type": "code",
   "execution_count": 86,
   "metadata": {},
   "outputs": [
    {
     "data": {
      "text/html": [
       "<table class=\"simpletable\">\n",
       "<caption>OLS Regression Results</caption>\n",
       "<tr>\n",
       "  <th>Dep. Variable:</th>       <td>Purchase_x</td>    <th>  R-squared:         </th>  <td>   0.186</td>  \n",
       "</tr>\n",
       "<tr>\n",
       "  <th>Model:</th>                   <td>OLS</td>       <th>  Adj. R-squared:    </th>  <td>   0.186</td>  \n",
       "</tr>\n",
       "<tr>\n",
       "  <th>Method:</th>             <td>Least Squares</td>  <th>  F-statistic:       </th>  <td>   2202.</td>  \n",
       "</tr>\n",
       "<tr>\n",
       "  <th>Date:</th>             <td>Mon, 03 Dec 2018</td> <th>  Prob (F-statistic):</th>   <td>  0.00</td>   \n",
       "</tr>\n",
       "<tr>\n",
       "  <th>Time:</th>                 <td>21:22:46</td>     <th>  Log-Likelihood:    </th> <td>-3.7879e+06</td>\n",
       "</tr>\n",
       "<tr>\n",
       "  <th>No. Observations:</th>      <td>385047</td>      <th>  AIC:               </th>  <td>7.576e+06</td> \n",
       "</tr>\n",
       "<tr>\n",
       "  <th>Df Residuals:</th>          <td>385006</td>      <th>  BIC:               </th>  <td>7.576e+06</td> \n",
       "</tr>\n",
       "<tr>\n",
       "  <th>Df Model:</th>              <td>    40</td>      <th>                     </th>      <td> </td>     \n",
       "</tr>\n",
       "<tr>\n",
       "  <th>Covariance Type:</th>      <td>nonrobust</td>    <th>                     </th>      <td> </td>     \n",
       "</tr>\n",
       "</table>\n",
       "<table class=\"simpletable\">\n",
       "<tr>\n",
       "                <td></td>                   <th>coef</th>     <th>std err</th>      <th>t</th>      <th>P>|t|</th>  <th>[0.025</th>    <th>0.975]</th>  \n",
       "</tr>\n",
       "<tr>\n",
       "  <th>const</th>                         <td> -451.7443</td> <td> 1931.442</td> <td>   -0.234</td> <td> 0.815</td> <td>-4237.312</td> <td> 3333.823</td>\n",
       "</tr>\n",
       "<tr>\n",
       "  <th>User_ID_x</th>                     <td>    0.0111</td> <td>    0.004</td> <td>    2.598</td> <td> 0.009</td> <td>    0.003</td> <td>    0.020</td>\n",
       "</tr>\n",
       "<tr>\n",
       "  <th>Product_ID</th>                    <td>   -0.0022</td> <td> 7.22e-05</td> <td>  -30.933</td> <td> 0.000</td> <td>   -0.002</td> <td>   -0.002</td>\n",
       "</tr>\n",
       "<tr>\n",
       "  <th>Marital_Status</th>                <td>  -28.9659</td> <td>   15.891</td> <td>   -1.823</td> <td> 0.068</td> <td>  -60.111</td> <td>    2.180</td>\n",
       "</tr>\n",
       "<tr>\n",
       "  <th>Product_Category_1</th>            <td> -367.0692</td> <td>    1.915</td> <td> -191.729</td> <td> 0.000</td> <td> -370.822</td> <td> -363.317</td>\n",
       "</tr>\n",
       "<tr>\n",
       "  <th>User_prod_bought</th>              <td>   -0.8783</td> <td>    0.051</td> <td>  -17.112</td> <td> 0.000</td> <td>   -0.979</td> <td>   -0.778</td>\n",
       "</tr>\n",
       "<tr>\n",
       "  <th>Quantity_sold</th>                 <td>    3.9280</td> <td>    0.037</td> <td>  107.578</td> <td> 0.000</td> <td>    3.856</td> <td>    4.000</td>\n",
       "</tr>\n",
       "<tr>\n",
       "  <th>Popular</th>                       <td> -721.5631</td> <td>   29.858</td> <td>  -24.166</td> <td> 0.000</td> <td> -780.085</td> <td> -663.041</td>\n",
       "</tr>\n",
       "<tr>\n",
       "  <th>Gender_F</th>                      <td> -463.3058</td> <td>  966.049</td> <td>   -0.480</td> <td> 0.632</td> <td>-2356.733</td> <td> 1430.121</td>\n",
       "</tr>\n",
       "<tr>\n",
       "  <th>Gender_M</th>                      <td>   11.5615</td> <td>  965.474</td> <td>    0.012</td> <td> 0.990</td> <td>-1880.739</td> <td> 1903.862</td>\n",
       "</tr>\n",
       "<tr>\n",
       "  <th>Age_0-17</th>                      <td> -383.7642</td> <td>  283.698</td> <td>   -1.353</td> <td> 0.176</td> <td> -939.804</td> <td>  172.275</td>\n",
       "</tr>\n",
       "<tr>\n",
       "  <th>Age_18-25</th>                     <td> -377.6446</td> <td>  275.632</td> <td>   -1.370</td> <td> 0.171</td> <td> -917.874</td> <td>  162.585</td>\n",
       "</tr>\n",
       "<tr>\n",
       "  <th>Age_26-35</th>                     <td> -170.7165</td> <td>  276.684</td> <td>   -0.617</td> <td> 0.537</td> <td> -713.009</td> <td>  371.576</td>\n",
       "</tr>\n",
       "<tr>\n",
       "  <th>Age_36-45</th>                     <td>   -5.9867</td> <td>  276.687</td> <td>   -0.022</td> <td> 0.983</td> <td> -548.285</td> <td>  536.311</td>\n",
       "</tr>\n",
       "<tr>\n",
       "  <th>Age_46-50</th>                     <td>   41.7107</td> <td>  277.602</td> <td>    0.150</td> <td> 0.881</td> <td> -502.380</td> <td>  585.801</td>\n",
       "</tr>\n",
       "<tr>\n",
       "  <th>Age_51-55</th>                     <td>  289.3149</td> <td>  276.939</td> <td>    1.045</td> <td> 0.296</td> <td> -253.477</td> <td>  832.107</td>\n",
       "</tr>\n",
       "<tr>\n",
       "  <th>Age_55+</th>                       <td>  155.3421</td> <td>  278.317</td> <td>    0.558</td> <td> 0.577</td> <td> -390.150</td> <td>  700.834</td>\n",
       "</tr>\n",
       "<tr>\n",
       "  <th>Occupation_0</th>                  <td>  -32.5036</td> <td>   94.985</td> <td>   -0.342</td> <td> 0.732</td> <td> -218.671</td> <td>  153.664</td>\n",
       "</tr>\n",
       "<tr>\n",
       "  <th>Occupation_1</th>                  <td> -177.2085</td> <td>   97.311</td> <td>   -1.821</td> <td> 0.069</td> <td> -367.935</td> <td>   13.518</td>\n",
       "</tr>\n",
       "<tr>\n",
       "  <th>Occupation_2</th>                  <td>  -93.2528</td> <td>   98.891</td> <td>   -0.943</td> <td> 0.346</td> <td> -287.077</td> <td>  100.571</td>\n",
       "</tr>\n",
       "<tr>\n",
       "  <th>Occupation_3</th>                  <td>  187.6647</td> <td>   99.025</td> <td>    1.895</td> <td> 0.058</td> <td>   -6.422</td> <td>  381.751</td>\n",
       "</tr>\n",
       "<tr>\n",
       "  <th>Occupation_4</th>                  <td>   35.0923</td> <td>   96.248</td> <td>    0.365</td> <td> 0.715</td> <td> -153.551</td> <td>  223.736</td>\n",
       "</tr>\n",
       "<tr>\n",
       "  <th>Occupation_5</th>                  <td>   13.9285</td> <td>  105.647</td> <td>    0.132</td> <td> 0.895</td> <td> -193.137</td> <td>  220.994</td>\n",
       "</tr>\n",
       "<tr>\n",
       "  <th>Occupation_6</th>                  <td>   70.2070</td> <td>  100.828</td> <td>    0.696</td> <td> 0.486</td> <td> -127.413</td> <td>  267.827</td>\n",
       "</tr>\n",
       "<tr>\n",
       "  <th>Occupation_7</th>                  <td>   59.7747</td> <td>   95.728</td> <td>    0.624</td> <td> 0.532</td> <td> -127.849</td> <td>  247.399</td>\n",
       "</tr>\n",
       "<tr>\n",
       "  <th>Occupation_8</th>                  <td>   -3.3769</td> <td>  156.425</td> <td>   -0.022</td> <td> 0.983</td> <td> -309.965</td> <td>  303.212</td>\n",
       "</tr>\n",
       "<tr>\n",
       "  <th>Occupation_9</th>                  <td> -405.5425</td> <td>  112.986</td> <td>   -3.589</td> <td> 0.000</td> <td> -626.991</td> <td> -184.094</td>\n",
       "</tr>\n",
       "<tr>\n",
       "  <th>Occupation_10</th>                 <td> -293.1154</td> <td>  116.158</td> <td>   -2.523</td> <td> 0.012</td> <td> -520.782</td> <td>  -65.449</td>\n",
       "</tr>\n",
       "<tr>\n",
       "  <th>Occupation_11</th>                 <td> -146.0444</td> <td>  103.861</td> <td>   -1.406</td> <td> 0.160</td> <td> -349.609</td> <td>   57.520</td>\n",
       "</tr>\n",
       "<tr>\n",
       "  <th>Occupation_12</th>                 <td>  178.5511</td> <td>   97.250</td> <td>    1.836</td> <td> 0.066</td> <td>  -12.056</td> <td>  369.158</td>\n",
       "</tr>\n",
       "<tr>\n",
       "  <th>Occupation_13</th>                 <td> -155.5003</td> <td>  111.199</td> <td>   -1.398</td> <td> 0.162</td> <td> -373.447</td> <td>   62.446</td>\n",
       "</tr>\n",
       "<tr>\n",
       "  <th>Occupation_14</th>                 <td>  154.1608</td> <td>   98.983</td> <td>    1.557</td> <td> 0.119</td> <td>  -39.842</td> <td>  348.164</td>\n",
       "</tr>\n",
       "<tr>\n",
       "  <th>Occupation_15</th>                 <td>  222.9342</td> <td>  105.751</td> <td>    2.108</td> <td> 0.035</td> <td>   15.666</td> <td>  430.203</td>\n",
       "</tr>\n",
       "<tr>\n",
       "  <th>Occupation_16</th>                 <td>  123.7414</td> <td>   98.933</td> <td>    1.251</td> <td> 0.211</td> <td>  -70.164</td> <td>  317.646</td>\n",
       "</tr>\n",
       "<tr>\n",
       "  <th>Occupation_17</th>                 <td>  204.1265</td> <td>   96.724</td> <td>    2.110</td> <td> 0.035</td> <td>   14.550</td> <td>  393.703</td>\n",
       "</tr>\n",
       "<tr>\n",
       "  <th>Occupation_18</th>                 <td>  -29.5323</td> <td>  113.319</td> <td>   -0.261</td> <td> 0.794</td> <td> -251.634</td> <td>  192.569</td>\n",
       "</tr>\n",
       "<tr>\n",
       "  <th>Occupation_19</th>                 <td> -298.6668</td> <td>  107.766</td> <td>   -2.771</td> <td> 0.006</td> <td> -509.884</td> <td>  -87.449</td>\n",
       "</tr>\n",
       "<tr>\n",
       "  <th>Occupation_20</th>                 <td>  -67.1819</td> <td>   96.933</td> <td>   -0.693</td> <td> 0.488</td> <td> -257.168</td> <td>  122.804</td>\n",
       "</tr>\n",
       "<tr>\n",
       "  <th>City_Category_A</th>               <td> -220.8246</td> <td>  643.710</td> <td>   -0.343</td> <td> 0.732</td> <td>-1482.477</td> <td> 1040.827</td>\n",
       "</tr>\n",
       "<tr>\n",
       "  <th>City_Category_B</th>               <td> -192.4017</td> <td>  644.105</td> <td>   -0.299</td> <td> 0.765</td> <td>-1454.829</td> <td> 1070.025</td>\n",
       "</tr>\n",
       "<tr>\n",
       "  <th>City_Category_C</th>               <td>  -38.5179</td> <td>  643.948</td> <td>   -0.060</td> <td> 0.952</td> <td>-1300.638</td> <td> 1223.602</td>\n",
       "</tr>\n",
       "<tr>\n",
       "  <th>Stay_In_Current_City_Years_0</th>  <td> -119.5285</td> <td>  386.924</td> <td>   -0.309</td> <td> 0.757</td> <td> -877.889</td> <td>  638.832</td>\n",
       "</tr>\n",
       "<tr>\n",
       "  <th>Stay_In_Current_City_Years_1</th>  <td>  -85.6438</td> <td>  386.692</td> <td>   -0.221</td> <td> 0.825</td> <td> -843.549</td> <td>  672.262</td>\n",
       "</tr>\n",
       "<tr>\n",
       "  <th>Stay_In_Current_City_Years_2</th>  <td> -104.8315</td> <td>  386.892</td> <td>   -0.271</td> <td> 0.786</td> <td> -863.128</td> <td>  653.465</td>\n",
       "</tr>\n",
       "<tr>\n",
       "  <th>Stay_In_Current_City_Years_3</th>  <td>  -65.8271</td> <td>  386.110</td> <td>   -0.170</td> <td> 0.865</td> <td> -822.591</td> <td>  690.937</td>\n",
       "</tr>\n",
       "<tr>\n",
       "  <th>Stay_In_Current_City_Years_4+</th> <td>  -75.9134</td> <td>  386.379</td> <td>   -0.196</td> <td> 0.844</td> <td> -833.204</td> <td>  681.377</td>\n",
       "</tr>\n",
       "</table>\n",
       "<table class=\"simpletable\">\n",
       "<tr>\n",
       "  <th>Omnibus:</th>       <td>41203.851</td> <th>  Durbin-Watson:     </th> <td>   1.994</td> \n",
       "</tr>\n",
       "<tr>\n",
       "  <th>Prob(Omnibus):</th>  <td> 0.000</td>   <th>  Jarque-Bera (JB):  </th> <td>57981.210</td>\n",
       "</tr>\n",
       "<tr>\n",
       "  <th>Skew:</th>           <td> 0.845</td>   <th>  Prob(JB):          </th> <td>    0.00</td> \n",
       "</tr>\n",
       "<tr>\n",
       "  <th>Kurtosis:</th>       <td> 3.872</td>   <th>  Cond. No.          </th> <td>1.01e+16</td> \n",
       "</tr>\n",
       "</table><br/><br/>Warnings:<br/>[1] Standard Errors assume that the covariance matrix of the errors is correctly specified.<br/>[2] The smallest eigenvalue is 3.95e-15. This might indicate that there are<br/>strong multicollinearity problems or that the design matrix is singular."
      ],
      "text/plain": [
       "<class 'statsmodels.iolib.summary.Summary'>\n",
       "\"\"\"\n",
       "                            OLS Regression Results                            \n",
       "==============================================================================\n",
       "Dep. Variable:             Purchase_x   R-squared:                       0.186\n",
       "Model:                            OLS   Adj. R-squared:                  0.186\n",
       "Method:                 Least Squares   F-statistic:                     2202.\n",
       "Date:                Mon, 03 Dec 2018   Prob (F-statistic):               0.00\n",
       "Time:                        21:22:46   Log-Likelihood:            -3.7879e+06\n",
       "No. Observations:              385047   AIC:                         7.576e+06\n",
       "Df Residuals:                  385006   BIC:                         7.576e+06\n",
       "Df Model:                          40                                         \n",
       "Covariance Type:            nonrobust                                         \n",
       "=================================================================================================\n",
       "                                    coef    std err          t      P>|t|      [0.025      0.975]\n",
       "-------------------------------------------------------------------------------------------------\n",
       "const                          -451.7443   1931.442     -0.234      0.815   -4237.312    3333.823\n",
       "User_ID_x                         0.0111      0.004      2.598      0.009       0.003       0.020\n",
       "Product_ID                       -0.0022   7.22e-05    -30.933      0.000      -0.002      -0.002\n",
       "Marital_Status                  -28.9659     15.891     -1.823      0.068     -60.111       2.180\n",
       "Product_Category_1             -367.0692      1.915   -191.729      0.000    -370.822    -363.317\n",
       "User_prod_bought                 -0.8783      0.051    -17.112      0.000      -0.979      -0.778\n",
       "Quantity_sold                     3.9280      0.037    107.578      0.000       3.856       4.000\n",
       "Popular                        -721.5631     29.858    -24.166      0.000    -780.085    -663.041\n",
       "Gender_F                       -463.3058    966.049     -0.480      0.632   -2356.733    1430.121\n",
       "Gender_M                         11.5615    965.474      0.012      0.990   -1880.739    1903.862\n",
       "Age_0-17                       -383.7642    283.698     -1.353      0.176    -939.804     172.275\n",
       "Age_18-25                      -377.6446    275.632     -1.370      0.171    -917.874     162.585\n",
       "Age_26-35                      -170.7165    276.684     -0.617      0.537    -713.009     371.576\n",
       "Age_36-45                        -5.9867    276.687     -0.022      0.983    -548.285     536.311\n",
       "Age_46-50                        41.7107    277.602      0.150      0.881    -502.380     585.801\n",
       "Age_51-55                       289.3149    276.939      1.045      0.296    -253.477     832.107\n",
       "Age_55+                         155.3421    278.317      0.558      0.577    -390.150     700.834\n",
       "Occupation_0                    -32.5036     94.985     -0.342      0.732    -218.671     153.664\n",
       "Occupation_1                   -177.2085     97.311     -1.821      0.069    -367.935      13.518\n",
       "Occupation_2                    -93.2528     98.891     -0.943      0.346    -287.077     100.571\n",
       "Occupation_3                    187.6647     99.025      1.895      0.058      -6.422     381.751\n",
       "Occupation_4                     35.0923     96.248      0.365      0.715    -153.551     223.736\n",
       "Occupation_5                     13.9285    105.647      0.132      0.895    -193.137     220.994\n",
       "Occupation_6                     70.2070    100.828      0.696      0.486    -127.413     267.827\n",
       "Occupation_7                     59.7747     95.728      0.624      0.532    -127.849     247.399\n",
       "Occupation_8                     -3.3769    156.425     -0.022      0.983    -309.965     303.212\n",
       "Occupation_9                   -405.5425    112.986     -3.589      0.000    -626.991    -184.094\n",
       "Occupation_10                  -293.1154    116.158     -2.523      0.012    -520.782     -65.449\n",
       "Occupation_11                  -146.0444    103.861     -1.406      0.160    -349.609      57.520\n",
       "Occupation_12                   178.5511     97.250      1.836      0.066     -12.056     369.158\n",
       "Occupation_13                  -155.5003    111.199     -1.398      0.162    -373.447      62.446\n",
       "Occupation_14                   154.1608     98.983      1.557      0.119     -39.842     348.164\n",
       "Occupation_15                   222.9342    105.751      2.108      0.035      15.666     430.203\n",
       "Occupation_16                   123.7414     98.933      1.251      0.211     -70.164     317.646\n",
       "Occupation_17                   204.1265     96.724      2.110      0.035      14.550     393.703\n",
       "Occupation_18                   -29.5323    113.319     -0.261      0.794    -251.634     192.569\n",
       "Occupation_19                  -298.6668    107.766     -2.771      0.006    -509.884     -87.449\n",
       "Occupation_20                   -67.1819     96.933     -0.693      0.488    -257.168     122.804\n",
       "City_Category_A                -220.8246    643.710     -0.343      0.732   -1482.477    1040.827\n",
       "City_Category_B                -192.4017    644.105     -0.299      0.765   -1454.829    1070.025\n",
       "City_Category_C                 -38.5179    643.948     -0.060      0.952   -1300.638    1223.602\n",
       "Stay_In_Current_City_Years_0   -119.5285    386.924     -0.309      0.757    -877.889     638.832\n",
       "Stay_In_Current_City_Years_1    -85.6438    386.692     -0.221      0.825    -843.549     672.262\n",
       "Stay_In_Current_City_Years_2   -104.8315    386.892     -0.271      0.786    -863.128     653.465\n",
       "Stay_In_Current_City_Years_3    -65.8271    386.110     -0.170      0.865    -822.591     690.937\n",
       "Stay_In_Current_City_Years_4+   -75.9134    386.379     -0.196      0.844    -833.204     681.377\n",
       "==============================================================================\n",
       "Omnibus:                    41203.851   Durbin-Watson:                   1.994\n",
       "Prob(Omnibus):                  0.000   Jarque-Bera (JB):            57981.210\n",
       "Skew:                           0.845   Prob(JB):                         0.00\n",
       "Kurtosis:                       3.872   Cond. No.                     1.01e+16\n",
       "==============================================================================\n",
       "\n",
       "Warnings:\n",
       "[1] Standard Errors assume that the covariance matrix of the errors is correctly specified.\n",
       "[2] The smallest eigenvalue is 3.95e-15. This might indicate that there are\n",
       "strong multicollinearity problems or that the design matrix is singular.\n",
       "\"\"\""
      ]
     },
     "execution_count": 86,
     "metadata": {},
     "output_type": "execute_result"
    }
   ],
   "source": [
    "multivar_model.summary()"
   ]
  },
  {
   "cell_type": "markdown",
   "metadata": {},
   "source": [
    "This shows that Marital Status, Number of products user bought, Quantity of item sold were significant features.\n",
    "Also customers from Occupation 3 ,6,19 seem to be siginficant\n",
    "\n",
    "**Also Product category seems to be a siginificant feature .**"
   ]
  },
  {
   "cell_type": "markdown",
   "metadata": {},
   "source": [
    "#### RMSE"
   ]
  },
  {
   "cell_type": "code",
   "execution_count": 89,
   "metadata": {},
   "outputs": [],
   "source": [
    "#code to calculate RMSE\n",
    "def rmse(predictor,target):\n",
    "    return np.sqrt(((predictor - target) ** 2).mean())"
   ]
  },
  {
   "cell_type": "code",
   "execution_count": 90,
   "metadata": {},
   "outputs": [
    {
     "name": "stdout",
     "output_type": "stream",
     "text": [
      "4535.362990430912\n"
     ]
    }
   ],
   "source": [
    "predict = multivar_model.predict(sm.add_constant(X_test))\n",
    "print(rmse(predict,y_test))"
   ]
  },
  {
   "cell_type": "markdown",
   "metadata": {},
   "source": [
    "The RMSE value is very high almost 50 percent of the mean purchase price. Since there isn't a linear relationship between the features and the target , we move to non linear models."
   ]
  },
  {
   "cell_type": "markdown",
   "metadata": {},
   "source": [
    "### 2. Random Forest "
   ]
  },
  {
   "cell_type": "code",
   "execution_count": 8,
   "metadata": {},
   "outputs": [],
   "source": [
    "\n",
    "rfr= RandomForestRegressor()\n"
   ]
  },
  {
   "cell_type": "code",
   "execution_count": null,
   "metadata": {},
   "outputs": [
    {
     "name": "stdout",
     "output_type": "stream",
     "text": [
      "Fitting 10 folds for each of 100 candidates, totalling 1000 fits\n",
      "[CV] n_estimatore=98, min_samples_split=5, min_samples_leaf=15, max_features=0.2, max_depth=41 \n",
      "[CV] n_estimatore=98, min_samples_split=5, min_samples_leaf=15, max_features=0.2, max_depth=41 \n",
      "[CV] n_estimatore=98, min_samples_split=5, min_samples_leaf=15, max_features=0.2, max_depth=41 \n",
      "[CV] n_estimatore=98, min_samples_split=5, min_samples_leaf=15, max_features=0.2, max_depth=41 \n"
     ]
    }
   ],
   "source": [
    "# Randomized Search\n",
    "\n",
    "max_features = ['auto', 'sqrt',0.2]\n",
    "# Maximum number of levels in tree\n",
    "max_depth = [int(x) for x in np.linspace(10, 50, num = 10)]\n",
    "\n",
    "# Minimum number of samples required to split a node\n",
    "min_samples_split = [2, 5, 7, 10]\n",
    "# Minimum number of samples required at each leaf node\n",
    "min_samples_leaf = [int(x) for x in np.linspace(1, 20, num = 5)]\n",
    "\n",
    "\n",
    "\n",
    "# Create the random grid\n",
    "\n",
    "\n",
    "rf_param = {  'n_estimatore':[int(x) for x in np.linspace(10, 1100, num = 50)],\n",
    "              'max_features': max_features,\n",
    "              'max_depth': max_depth,\n",
    "              'min_samples_split': min_samples_split,\n",
    "              'min_samples_leaf': min_samples_leaf,\n",
    "              \n",
    "              }\n",
    "\n",
    "# Use the random grid to search for best hyperparameters\n",
    "# First create the base model to tune\n",
    "\n",
    "# Random search of parameters, using  10 fold cross validation, \n",
    "\n",
    "rf_random = RandomizedSearchCV(estimator = rfr, param_distributions = rf_param, random_state=42,cv = 10,n_iter = 100 ,verbose=2,  n_jobs = -1)\n",
    "# Fit the random search model\n",
    "rf_random.fit(X_train, y_train)"
   ]
  },
  {
   "cell_type": "code",
   "execution_count": null,
   "metadata": {},
   "outputs": [],
   "source": [
    "#best parameters\n",
    "\n",
    "rf_random.best_params_"
   ]
  },
  {
   "cell_type": "code",
   "execution_count": 9,
   "metadata": {},
   "outputs": [
    {
     "data": {
      "text/plain": [
       "RandomForestRegressor(bootstrap=True, criterion='mse', max_depth=None,\n",
       "           max_features='auto', max_leaf_nodes=None,\n",
       "           min_impurity_decrease=0.0, min_impurity_split=None,\n",
       "           min_samples_leaf=1, min_samples_split=2,\n",
       "           min_weight_fraction_leaf=0.0, n_estimators=10, n_jobs=1,\n",
       "           oob_score=False, random_state=None, verbose=0, warm_start=False)"
      ]
     },
     "execution_count": 9,
     "metadata": {},
     "output_type": "execute_result"
    }
   ],
   "source": [
    "#fitting with new params\n",
    "\n",
    "rf=RandomForestRegressor()\n",
    "rf.fit(X_train, y_train)"
   ]
  },
  {
   "cell_type": "code",
   "execution_count": 11,
   "metadata": {},
   "outputs": [],
   "source": [
    "y_pred = rf.predict(X_test)"
   ]
  },
  {
   "cell_type": "markdown",
   "metadata": {},
   "source": [
    "#### RMSE"
   ]
  },
  {
   "cell_type": "code",
   "execution_count": 93,
   "metadata": {},
   "outputs": [
    {
     "data": {
      "text/plain": [
       "2789.7295325364767"
      ]
     },
     "execution_count": 93,
     "metadata": {},
     "output_type": "execute_result"
    }
   ],
   "source": [
    "\n",
    "#calculating RMSE\n",
    "np.sqrt(mean_squared_error(y_test, y_pred))"
   ]
  },
  {
   "cell_type": "markdown",
   "metadata": {},
   "source": [
    "**The RMSE before feature engineering was 2865 , hence feature engineering helped reduce the RMSE**. This means we were off by 2865 dollars for a item of mean purchase price 9500."
   ]
  },
  {
   "cell_type": "markdown",
   "metadata": {},
   "source": [
    "#### Feature Importance"
   ]
  },
  {
   "cell_type": "code",
   "execution_count": 94,
   "metadata": {},
   "outputs": [
    {
     "data": {
      "text/plain": [
       "Text(0.5,0,'Gini Index')"
      ]
     },
     "execution_count": 94,
     "metadata": {},
     "output_type": "execute_result"
    },
    {
     "data": {
      "image/png": "[encoded data removed]",
      "text/plain": [
       "<Figure size 432x288 with 1 Axes>"
      ]
     },
     "metadata": {},
     "output_type": "display_data"
    }
   ],
   "source": [
    "feat_importances = pd.Series(rfr.feature_importances_, index=X_train.columns)\n",
    "feat_importances.nlargest(10).plot(kind='barh')\n",
    "plt.title('Relative Importance - Random Forest ', fontsize=18)\n",
    "plt.xlabel('Gini Index', fontsize=14)"
   ]
  },
  {
   "cell_type": "markdown",
   "metadata": {},
   "source": [
    " **Product Category, Quantiy sold, User ID and Number of items user bought seem to be the most important  features.**\n",
    " \n",
    " It is possible some product catgories have higher variance in price.\n",
    " "
   ]
  },
  {
   "cell_type": "markdown",
   "metadata": {},
   "source": [
    "The RMSE is definitely lower than RMSE given by the OLS model which was 4382, clearly beacuse there isn't a linear relationship between the the features and and purchase amount. "
   ]
  },
  {
   "cell_type": "markdown",
   "metadata": {},
   "source": [
    "### 3. XGB Regressor"
   ]
  },
  {
   "cell_type": "code",
   "execution_count": 12,
   "metadata": {},
   "outputs": [],
   "source": [
    "# convert data to DMatrix for xgb\n",
    "dmatrix= xgb.DMatrix(X.values, label=y, missing=np.nan)"
   ]
  },
  {
   "cell_type": "code",
   "execution_count": 13,
   "metadata": {},
   "outputs": [],
   "source": [
    "untuned_xgb_param = {'objective': 'reg:linear', 'booster': 'gbtree', 'silent': 1,\n",
    "        'max_depth': 8, 'eta': 0.1, \n",
    "        'subsample': 0.8, 'colsample_bytree': 0.8, 'min_child_weight': 10,\n",
    "        'metrics':'rmse'}"
   ]
  },
  {
   "cell_type": "code",
   "execution_count": 14,
   "metadata": {},
   "outputs": [],
   "source": [
    "untuned_cv_rmse=xgb.cv(dtrain=dmatrix, params=untuned_xgb_param, nfold=5, seed=123, num_boost_round=690 ,early_stopping_rounds=10)\n"
   ]
  },
  {
   "cell_type": "markdown",
   "metadata": {},
   "source": [
    "#### RMSE"
   ]
  },
  {
   "cell_type": "code",
   "execution_count": 15,
   "metadata": {},
   "outputs": [
    {
     "data": {
      "text/plain": [
       "2613.97522016029"
      ]
     },
     "execution_count": 15,
     "metadata": {},
     "output_type": "execute_result"
    }
   ],
   "source": [
    "untuned_cv_rmse['test-rmse-mean'].mean()"
   ]
  },
  {
   "cell_type": "code",
   "execution_count": 16,
   "metadata": {},
   "outputs": [],
   "source": [
    "# apply untuned hyperparameters to model to fit (better cv results)\n",
    "xgb_reg=xgb.XGBRegressor(objective='reg:linear', booster='gbtree',\n",
    "        max_depth= 8, eta= 0.1, \n",
    "        subsample=0.8, colsample_bytree=0.8, min_child_weight=10,\n",
    "        )"
   ]
  },
  {
   "cell_type": "code",
   "execution_count": 17,
   "metadata": {},
   "outputs": [
    {
     "data": {
      "text/plain": [
       "XGBRegressor(base_score=0.5, booster='gbtree', colsample_bylevel=1,\n",
       "       colsample_bytree=0.8, eta=0.1, gamma=0, learning_rate=0.1,\n",
       "       max_delta_step=0, max_depth=8, min_child_weight=10, missing=None,\n",
       "       n_estimators=100, n_jobs=1, nthread=None, objective='reg:linear',\n",
       "       random_state=0, reg_alpha=0, reg_lambda=1, scale_pos_weight=1,\n",
       "       seed=None, silent=True, subsample=0.8)"
      ]
     },
     "execution_count": 17,
     "metadata": {},
     "output_type": "execute_result"
    }
   ],
   "source": [
    "xgb_reg.fit(X, y)"
   ]
  },
  {
   "cell_type": "markdown",
   "metadata": {},
   "source": [
    "#### Feature Importance"
   ]
  },
  {
   "cell_type": "code",
   "execution_count": 19,
   "metadata": {},
   "outputs": [
    {
     "data": {
      "text/plain": [
       "Text(0.5,1,'Feature Importance Score')"
      ]
     },
     "execution_count": 19,
     "metadata": {},
     "output_type": "execute_result"
    },
    {
     "data": {
      "image/png": "[encoded data removed]",
      "text/plain": [
       "<Figure size 432x288 with 1 Axes>"
      ]
     },
     "metadata": {},
     "output_type": "display_data"
    }
   ],
   "source": [
    "feat_imp = pd.Series(xgb_reg.feature_importances_, index=X.columns).sort_values(ascending=False).nlargest(10)\n",
    "feat_imp.plot(kind='bar', title='Feature Importances_XGBRegressor')\n",
    "plt.title('Feature Importance Score')"
   ]
  },
  {
   "cell_type": "markdown",
   "metadata": {},
   "source": [
    "**This plot shows that the feature engineering features are definitely helping improve the score and are important features.**"
   ]
  },
  {
   "cell_type": "markdown",
   "metadata": {},
   "source": [
    "### Summary"
   ]
  },
  {
   "cell_type": "markdown",
   "metadata": {},
   "source": [
    "\n",
    "\n",
    "1. Boosting examples show better results so far \n",
    "If we look at the feature importance, we can find the newly added columns: ’Quatity_sold’ & ‘User_prod_bought’ are good features of high importance to both model and we did well in feature engineering, which serves as reverse engineering that we did well in feature engineering\n",
    "2. How to understand this rmse?\n",
    "Our target 'Purchase' column has mean value of 9263 and std of 5023, with the maximum value of 24000, 2614 is reasonable RMSE.\n",
    "3. Possible Reasons:\n",
    "3.1 144 out of 3631 is 4% of the whole products have stable selling price, while the other 96% of products have price change which will bring high variance to our prediction. However, based on the private dataset we have, it's hard to set up criteria to drop which data points as outliers. Also , we don't have enough information on the discount model of the store, hence we can't for sure know why each item has a varied price point.For future reference, we wish to get more clearity of data and make decision to perform better data cleaning"
   ]
  }
 ],
 "metadata": {
  "kernelspec": {
   "display_name": "Python 3",
   "language": "python",
   "name": "python3"
  },
  "language_info": {
   "codemirror_mode": {
    "name": "ipython",
    "version": 3
   },
   "file_extension": ".py",
   "mimetype": "text/x-python",
   "name": "python",
   "nbconvert_exporter": "python",
   "pygments_lexer": "ipython3",
   "version": "3.6.5"
  }
 },
 "nbformat": 4,
 "nbformat_minor": 2
}
